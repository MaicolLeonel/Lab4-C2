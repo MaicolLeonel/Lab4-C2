{
 "cells": [
  {
   "cell_type": "code",
   "execution_count": 5,
   "metadata": {},
   "outputs": [
    {
     "name": "stdout",
     "output_type": "stream",
     "text": [
      "[1, 2, 3, 4]\n",
      "[]\n",
      "[]\n",
      "[1, 'Hola', [True, []]]\n"
     ]
    }
   ],
   "source": [
    "# Lista\n",
    "\n",
    "a = [1, 2, 3, 4]\n",
    "print(a)\n",
    "\n",
    "b = []\n",
    "print(b)\n",
    "\n",
    "c = list()\n",
    "print(c)\n",
    "\n",
    "d = [1, \"Hola\", [True, c]]\n",
    "print(d)"
   ]
  },
  {
   "cell_type": "code",
   "execution_count": 11,
   "metadata": {},
   "outputs": [
    {
     "name": "stdout",
     "output_type": "stream",
     "text": [
      "10\n",
      "30\n",
      "[0, 1, 2, 3, 4, 5, 6, 7, 8, 9]\n",
      "7\n"
     ]
    }
   ],
   "source": [
    "a = [10, 20, 30]\n",
    "b = a[0]\n",
    "print(b)\n",
    "\n",
    "c = a[len(a)-1]\n",
    "print(c)\n",
    "\n",
    "d = a[-3]\n",
    "a = list(range(10))\n",
    "print(a)\n",
    "print(a[-3])"
   ]
  },
  {
   "cell_type": "code",
   "execution_count": 27,
   "metadata": {},
   "outputs": [
    {
     "name": "stdout",
     "output_type": "stream",
     "text": [
      "[20, 30]\n",
      "[30, 40]\n",
      "[10, 20, 30]\n",
      "[]\n",
      "[10, 30]\n",
      "[10, 30]\n",
      "[40, 30, 20, 10]\n",
      "[10, 20, 30, 40]\n"
     ]
    }
   ],
   "source": [
    "a = [10, 20, 30, 40]\n",
    "\n",
    "b = a[1:3]\n",
    "print(b)\n",
    "\n",
    "c = a[2:]\n",
    "print(c)\n",
    "\n",
    "d = a[:3]\n",
    "print(d)\n",
    "\n",
    "e = a[-2:0]\n",
    "print(e)\n",
    "\n",
    "f = a[0:3:2]\n",
    "print(f)\n",
    "\n",
    "print(a[::2])\n",
    "print(a[::-1])\n",
    "print(a[:])"
   ]
  },
  {
   "cell_type": "code",
   "execution_count": 34,
   "metadata": {},
   "outputs": [
    {
     "name": "stdout",
     "output_type": "stream",
     "text": [
      "[10, 20, 300, 40, 50]\n",
      "[10, 20, 300, 40, 50]\n",
      "[100, 20, 300, 40, 50]\n",
      "[10, 20, 300, 40, 50]\n"
     ]
    }
   ],
   "source": [
    "a = [10, 20, 30, 40, 50]\n",
    "b = a \n",
    "b[2] = 300\n",
    "print(a)\n",
    "print(b)\n"
   ]
  },
  {
   "cell_type": "code",
   "execution_count": 39,
   "metadata": {},
   "outputs": [
    {
     "name": "stdout",
     "output_type": "stream",
     "text": [
      "[100, 20, 30, 40, 50]\n",
      "[10, 20, 30, 40, 50]\n"
     ]
    }
   ],
   "source": [
    "a = [10, 20, 30, 40, 50]\n",
    "c = a[:]\n",
    "c[0] = 100\n",
    "print(c)\n",
    "print(a)"
   ]
  },
  {
   "cell_type": "code",
   "execution_count": 45,
   "metadata": {},
   "outputs": [
    {
     "name": "stdout",
     "output_type": "stream",
     "text": [
      "['aaa', 'bbb', 'ccc', 'ddd']\n",
      "['aaa', 'ccc', 'bbb', 'ddd']\n"
     ]
    }
   ],
   "source": [
    "def mostrar(lista):\n",
    "    nueva = lista.copy()\n",
    "    nueva.sort()\n",
    "    print(nueva)\n",
    "\n",
    "datos = ['aaa','ccc','bbb','ddd']\n",
    "mostrar(lista=datos)\n",
    "    \n",
    "print(datos)"
   ]
  },
  {
   "cell_type": "code",
   "execution_count": 58,
   "metadata": {},
   "outputs": [
    {
     "name": "stdout",
     "output_type": "stream",
     "text": [
      "[1000, 20, 3000, 40]\n"
     ]
    }
   ],
   "source": [
    "a = [10, 20, 30, 40]\n",
    "# a[1:3]\n",
    "# a[1] = 100\n",
    "a[::2] = [1000,3000]\n",
    "print(a)\n",
    "\n"
   ]
  },
  {
   "cell_type": "code",
   "execution_count": 62,
   "metadata": {},
   "outputs": [
    {
     "name": "stdout",
     "output_type": "stream",
     "text": [
      "a[0] = 10\n",
      "a[1] = 20\n",
      "a[2] = 30\n",
      "a[3] = 40\n",
      "10\n",
      "20\n",
      "30\n",
      "40\n",
      "a[0] = 10\n",
      "a[1] = 20\n",
      "a[2] = 30\n",
      "a[3] = 40\n"
     ]
    }
   ],
   "source": [
    "a = [10, 20, 30, 40]\n",
    "for i in range(len(a)):\n",
    "    x = a[i]\n",
    "    print(f\"a[{i}] = {x}\")\n",
    "\n",
    "for x in a:\n",
    "    print(x)\n",
    "\n",
    "for i, x in enumerate(a):\n",
    "    print(f\"a[{i}] = {x}\")\n"
   ]
  },
  {
   "cell_type": "code",
   "execution_count": 70,
   "metadata": {},
   "outputs": [
    {
     "name": "stdout",
     "output_type": "stream",
     "text": [
      "b [4, 16, 36, 64, 100]\n",
      "c [4, 16, 36, 64, 100]\n"
     ]
    }
   ],
   "source": [
    "a = list(range(1,11))\n",
    "\n",
    "b = []\n",
    "for x in a:\n",
    "    if x % 2 == 0:\n",
    "        b.append( x * x)\n",
    "\n",
    "b \n",
    "print(\"b\",b)\n",
    "c = [ x * x for x in a \n",
    "                if x % 2 == 0]\n",
    "print(\"c\",c)"
   ]
  },
  {
   "cell_type": "code",
   "execution_count": 87,
   "metadata": {},
   "outputs": [
    {
     "name": "stdout",
     "output_type": "stream",
     "text": [
      "['H', 'o', 'l', 'a', ' ', 'm', 'u', 'n', 'd', 'o']\n",
      "['o', 'd', 'n', 'u', 'm', ' ', 'a', 'l', 'o', 'H']\n",
      "Hola mundo\n"
     ]
    },
    {
     "data": {
      "text/plain": [
       "10"
      ]
     },
     "execution_count": 87,
     "metadata": {},
     "output_type": "execute_result"
    }
   ],
   "source": [
    "a = \"Hola mundo\"\n",
    "b = list(a)\n",
    "print(b)\n",
    "\n",
    "b.reverse()\n",
    "print(b)\n",
    "# a.reverse() \n",
    "print(a)\n",
    "\n",
    "len(a)\n",
    "len(b)"
   ]
  },
  {
   "cell_type": "code",
   "execution_count": 95,
   "metadata": {},
   "outputs": [
    {
     "name": "stdout",
     "output_type": "stream",
     "text": [
      "{'nombre': 'Juan', 'edad': 22}\n",
      "Juan\n",
      "22\n",
      "{1: 'uno', 2: 'dos'}\n",
      "uno\n"
     ]
    }
   ],
   "source": [
    "# Dict \n",
    "a = {'nombre': 'Juan', 'edad': 22}  \n",
    "print(a)\n",
    "print(a['nombre'])\n",
    "print(a['edad'])\n",
    "b  = {1: 'uno', 2: 'dos'}\n",
    "print(b)\n",
    "print(b[1])"
   ]
  },
  {
   "cell_type": "code",
   "execution_count": 103,
   "metadata": {},
   "outputs": [
    {
     "name": "stdout",
     "output_type": "stream",
     "text": [
      "- nombre\n",
      "- edad\n",
      "Keys\n",
      "- nombre\n",
      "- edad\n",
      "Values\n",
      "- Pedro\n",
      "- 22\n",
      "Items\n",
      "- ('nombre', 'Pedro')\n",
      "- ('edad', 22)\n"
     ]
    }
   ],
   "source": [
    "a = {'nombre': 'Juan', 'edad': 22}  \n",
    "\n",
    "a['nombre'] = 'Pedro'\n",
    "for x in a:\n",
    "    print(\"-\",x)\n",
    "\n",
    "print(\"Keys\")\n",
    "for x in a.keys():\n",
    "    print(\"-\",x)\n",
    "\n",
    "print(\"Values\")\n",
    "for x in a.values():\n",
    "    print(\"-\",x)    \n",
    "\n",
    "print(\"Items\")\n",
    "for x in a.items():\n",
    "    print(\"-\",x)\n"
   ]
  },
  {
   "cell_type": "code",
   "execution_count": 111,
   "metadata": {},
   "outputs": [
    {
     "name": "stdout",
     "output_type": "stream",
     "text": [
      "{'edad': 22}\n",
      "No existe\n",
      "no definido aun\n"
     ]
    },
    {
     "data": {
      "text/plain": [
       "1"
      ]
     },
     "execution_count": 111,
     "metadata": {},
     "output_type": "execute_result"
    }
   ],
   "source": [
    "a = {'nombre': 'Juan', 'edad': 22}  \n",
    "\n",
    "a['nombre'] = None \n",
    "del a['nombre']\n",
    "print(a)\n",
    "\n",
    "# a = [10, 20, 30, 40]\n",
    "# del a[1]\n",
    "a\n",
    "def get(d, k, v):\n",
    "    return d.get(k, v)\n",
    "\n",
    "if 'apellido' in a:\n",
    "    print(a['apellido'])\n",
    "else:\n",
    "    print(a.get('apellido', 'No existe'))\n",
    "\n",
    "print(get(a,'sexo','no definido aun'))\n",
    "\n",
    "len(a)"
   ]
  },
  {
   "cell_type": "code",
   "execution_count": 115,
   "metadata": {},
   "outputs": [
    {
     "name": "stdout",
     "output_type": "stream",
     "text": [
      "(10, 20, 30, 40)\n"
     ]
    },
    {
     "data": {
      "text/plain": [
       "(20, 30)"
      ]
     },
     "execution_count": 115,
     "metadata": {},
     "output_type": "execute_result"
    }
   ],
   "source": [
    "#Tuplas lista inmutable\n",
    "\n",
    "a = (10, 20, 30, 40)\n",
    "print(a)\n",
    "a[1:3]\n"
   ]
  },
  {
   "cell_type": "code",
   "execution_count": 120,
   "metadata": {},
   "outputs": [
    {
     "name": "stdout",
     "output_type": "stream",
     "text": [
      "(5, 2)\n"
     ]
    }
   ],
   "source": [
    "def divmod(a, b):\n",
    "    return (a // b, a % b)\n",
    "\n",
    "print(divmod(17, 3))"
   ]
  },
  {
   "cell_type": "code",
   "execution_count": 125,
   "metadata": {},
   "outputs": [
    {
     "name": "stdout",
     "output_type": "stream",
     "text": [
      "10\n",
      "[20, 30, 40]\n",
      "50\n"
     ]
    }
   ],
   "source": [
    "a,*b,c = [10, 20, 30, 40, 50]\n",
    "print(a)\n",
    "print(b)\n",
    "print(c)"
   ]
  },
  {
   "cell_type": "code",
   "execution_count": 130,
   "metadata": {},
   "outputs": [
    {
     "data": {
      "text/plain": [
       "[10, 20, 30, 40, 10, 20, 10, 20]"
      ]
     },
     "execution_count": 130,
     "metadata": {},
     "output_type": "execute_result"
    }
   ],
   "source": [
    "a = [10, 20]\n",
    "b = [30, 40]\n",
    "c = [*a, *b, *a, *a]\n",
    "c"
   ]
  },
  {
   "cell_type": "code",
   "execution_count": 133,
   "metadata": {},
   "outputs": [
    {
     "name": "stdout",
     "output_type": "stream",
     "text": [
      "nombre\n",
      "edad\n"
     ]
    }
   ],
   "source": [
    "a = {'nombre': 'Juan', 'edad': 22}\n",
    "print(b)\n",
    "print(c)\n",
    "\n",
    "def suma(a, b):\n",
    "    return a + b\n",
    "\n",
    "print(suma(10, 20))\n",
    "a = [10, 20]\n",
    "\n",
    "print(suma(*a))"
   ]
  }
 ],
 "metadata": {
  "kernelspec": {
   "display_name": "Python 3",
   "language": "python",
   "name": "python3"
  },
  "language_info": {
   "codemirror_mode": {
    "name": "ipython",
    "version": 3
   },
   "file_extension": ".py",
   "mimetype": "text/x-python",
   "name": "python",
   "nbconvert_exporter": "python",
   "pygments_lexer": "ipython3",
   "version": "3.12.5"
  }
 },
 "nbformat": 4,
 "nbformat_minor": 2
}
