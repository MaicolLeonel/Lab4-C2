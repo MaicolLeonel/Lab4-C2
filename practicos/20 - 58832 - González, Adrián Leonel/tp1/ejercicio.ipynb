{
 "cells": [
  {
   "cell_type": "markdown",
   "metadata": {},
   "source": [
    "# Trabajo práctico 1\n",
    "\n"
   ]
  },
  {
   "cell_type": "markdown",
   "metadata": {},
   "source": [
    "## Ejercicio 1 \n",
    "\n",
    "Escribe una función en Python que procese una lista de cadenas de texto y realice las siguientes acciones:\n",
    "\n",
    "1. Tomar una lista de frases y convertir cada frase en una lista de palabras.\n",
    "1. Luego, debe crear una nueva lista que contenga la cantidad de palabras en cada frase.\n",
    "1. Tambien debe crear un lista que contenga la cantidad de caracteres en cada frase.\n",
    "1. Finalmente, debe imprimir cada frase original junto con la cantidad de palabras que contiene.\n",
    "Ejemplo de uso:\n",
    "```python\n",
    "    frases = [\n",
    "        \"Python es un lenguaje de programación\",\n",
    "        \"Me gusta resolver problemas con código\",\n",
    "        \"Las listas y los bucles son muy útiles\"\n",
    "    ]\n",
    "\n",
    "    procesar_frases(frases)\n",
    "```\n",
    "\n",
    "ejemplo de salida:\n",
    "```bash\n",
    "    La frase: \"Python es un...\"\n",
    "    tiene 6 palabras y 38 caracteres\n",
    "```\n"
   ]
  },
  {
   "cell_type": "code",
   "execution_count": 28,
   "metadata": {},
   "outputs": [
    {
     "name": "stdout",
     "output_type": "stream",
     "text": [
      "la frase Python es un lenguaje de programación contiene 6 palabras y 32 caracteres \n",
      "la frase Me gusta resolver problemas con código contiene 6 palabras y 33 caracteres \n",
      "la frase las listas y los bucles son muy utiles contiene 8 palabras y 31 caracteres \n"
     ]
    }
   ],
   "source": [
    "# Implementar\n",
    "Frases =[\"Python es un lenguaje de programación\",\"Me gusta resolver problemas con código\",\"las listas y los bucles son muy utiles\"]\n",
    "\n",
    "\n",
    "Primera_lista_palabras = Frases[0].split()\n",
    "Segunda_lista_palabras = Frases[1].split()\n",
    "Tercera_lista_palabras = Frases[2].split()\n",
    "\n",
    "\n",
    "contar_lista1 = len(Primera_lista_palabras)\n",
    "contar_lista2 = len(Segunda_lista_palabras)\n",
    "contar_lista3 = len(Tercera_lista_palabras)\n",
    "\n",
    "contar_caracteres_lista1 = sum(len(palabra) for palabra in Primera_lista_palabras)\n",
    "contar_caracteres_lista2 = sum(len(palabra) for palabra in Segunda_lista_palabras)\n",
    "contar_caracteres_lista3 = sum(len(palabra) for palabra in Tercera_lista_palabras)\n",
    "\n",
    "print(f\"la frase {Frases[0]} contiene {contar_lista1} palabras y {contar_caracteres_lista1} caracteres \")\n",
    "print(f\"la frase {Frases[1]} contiene {contar_lista2} palabras y {contar_caracteres_lista2} caracteres \")\n",
    "print(f\"la frase {Frases[2]} contiene {contar_lista3} palabras y {contar_caracteres_lista3} caracteres \")"
   ]
  },
  {
   "cell_type": "markdown",
   "metadata": {},
   "source": [
    "## Ejercicio 2\n",
    "\n",
    "Escribe una función en Python que encuentre los valores de `a`, `b`, y `c` para que la función cuadrática `f(x) = aX^2 + bX + c` pase exactamente por los siguientes puntos:\n",
    "\n",
    "| x  | y  |\n",
    "|---:|---:|\n",
    "|  0 |  0 |\n",
    "|  1 |  8 |\n",
    "|  2 | 12 |\n",
    "|  3 | 12 |\n",
    "|  5 |  0 |\n",
    "\n",
    "### Requisitos:\n",
    "- La función debe explorar posibles valores de `a`, `b`, y `c` utilizando un método de prueba y error.\n",
    "- Debe devolver los valores que hagan que la diferencia entre la función `f(x)` y los valores medidos `y` sea exactamente cero para cada punto.\n",
    "\n",
    "> **Pista**: Los valores de `a`, `b`, y `c` son números pequeños."
   ]
  },
  {
   "cell_type": "code",
   "execution_count": 32,
   "metadata": {},
   "outputs": [
    {
     "name": "stdout",
     "output_type": "stream",
     "text": [
      "Los valores encontrados son: a = -2, b = 10, c = 0\n"
     ]
    }
   ],
   "source": [
    "# Implementar\n",
    "\n",
    "rango_minimo = -10\n",
    "rango_maximo = 10\n",
    "\n",
    "puntos = [(0, 0), (1, 8), (2, 12), (3, 12), (5, 0)]\n",
    "\n",
    "resultado = 0\n",
    "\n",
    "for a in range(rango_minimo, rango_maximo + 1):\n",
    "    for b in range(rango_minimo, rango_maximo + 1):\n",
    "        for c in range(rango_minimo, rango_maximo + 1):\n",
    "            valido = True\n",
    "            for x, y in puntos:\n",
    "                if a * x**2 + b * x + c != y:\n",
    "                    valido = False\n",
    "                    break\n",
    "            if valido:\n",
    "                resultado = (a, b, c)\n",
    "                break\n",
    "        if resultado:\n",
    "            break\n",
    "    if resultado:\n",
    "        break\n",
    "\n",
    "if resultado:\n",
    "    a, b, c = resultado\n",
    "    print(f\"Los valores son: a = {a}, b = {b}, c = {c}\")\n",
    "else:\n",
    "    print(\"No ando estoy mal echo\")\n",
    "\n",
    "                \n"
   ]
  }
 ],
 "metadata": {
  "kernelspec": {
   "display_name": "Python 3",
   "language": "python",
   "name": "python3"
  },
  "language_info": {
   "codemirror_mode": {
    "name": "ipython",
    "version": 3
   },
   "file_extension": ".py",
   "mimetype": "text/x-python",
   "name": "python",
   "nbconvert_exporter": "python",
   "pygments_lexer": "ipython3",
   "version": "3.12.6"
  }
 },
 "nbformat": 4,
 "nbformat_minor": 2
}
