{
 "cells": [
  {
   "cell_type": "markdown",
   "metadata": {},
   "source": [
    "# Trabajo práctico 1\n",
    "\n"
   ]
  },
  {
   "cell_type": "markdown",
   "metadata": {},
   "source": [
    "## Ejercicio 1 \n",
    "\n",
    "Escribe una función en Python que procese una lista de cadenas de texto y realice las siguientes acciones:\n",
    "\n",
    "1. Tomar una lista de frases y convertir cada frase en una lista de palabras.\n",
    "1. Luego, debe crear una nueva lista que contenga la cantidad de palabras en cada frase.\n",
    "1. Tambien debe crear un lista que contenga la cantidad de caracteres en cada frase.\n",
    "1. Finalmente, debe imprimir cada frase original junto con la cantidad de palabras que contiene.\n",
    "Ejemplo de uso:\n",
    "```python\n",
    "    frases = [\n",
    "        \"Python es un lenguaje de programación\",\n",
    "        \"Me gusta resolver problemas con código\",\n",
    "        \"Las listas y los bucles son muy útiles\"\n",
    "    ]\n",
    "\n",
    "    procesar_frases(frases)\n",
    "```\n",
    "\n",
    "ejemplo de salida:\n",
    "```bash\n",
    "    La frase: \"Python es un...\"\n",
    "    tiene 6 palabras y 38 caracteres\n",
    "```\n"
   ]
  },
  {
   "cell_type": "code",
   "execution_count": null,
   "metadata": {},
   "outputs": [],
   "source": [
    "# Implementar"
   ]
  },
  {
   "cell_type": "code",
   "execution_count": 1,
   "metadata": {},
   "outputs": [
    {
     "name": "stdout",
     "output_type": "stream",
     "text": [
      "['Boca', 'Junior', 'es', 'el', 'mejor', 'club', 'de', 'america']\n",
      "['Juan', 'Roman', 'Riquelme', 'es', 'su', 'maximo', 'idolo']\n",
      "['Martin', 'Palermo', 'es', 'el', 'maximo', 'goleador', 'del', 'club']\n",
      "[['B', 'o', 'c', 'a', ' ', 'J', 'u', 'n', 'i', 'o', 'r', ' ', 'e', 's', ' ', 'e', 'l', ' ', 'm', 'e', 'j', 'o', 'r', ' ', 'c', 'l', 'u', 'b', ' ', 'd', 'e', ' ', 'a', 'm', 'e', 'r', 'i', 'c', 'a'], ['J', 'u', 'a', 'n', ' ', 'R', 'o', 'm', 'a', 'n', ' ', 'R', 'i', 'q', 'u', 'e', 'l', 'm', 'e', ' ', 'e', 's', ' ', 's', 'u', ' ', 'm', 'a', 'x', 'i', 'm', 'o', ' ', 'i', 'd', 'o', 'l', 'o'], ['M', 'a', 'r', 't', 'i', 'n', ' ', 'P', 'a', 'l', 'e', 'r', 'm', 'o', ' ', 'e', 's', ' ', 'e', 'l', ' ', 'm', 'a', 'x', 'i', 'm', 'o', ' ', 'g', 'o', 'l', 'e', 'a', 'd', 'o', 'r', ' ', 'd', 'e', 'l', ' ', 'c', 'l', 'u', 'b']]\n",
      "Frase: Boca Junior es el mejor club de america : tiene 8 palabras y 39 letras\n",
      "Frase: Juan Roman Riquelme es su maximo idolo : tiene 7 palabras y 38 letras\n",
      "Frase: Martin Palermo es el maximo goleador del club : tiene 8 palabras y 45 letras\n"
     ]
    }
   ],
   "source": [
    "frases = [\n",
    "    \"Boca Junior es el mejor club de america\",\n",
    "    \"Juan Roman Riquelme es su maximo idolo\",\n",
    "    \"Martin Palermo es el maximo goleador del club\"\n",
    "]\n",
    "\n",
    "def procesar_frases(frases): # funcion con el parametro q trae el array\n",
    "    listas_palabras = [] #array vacio para pushear el nuevo \n",
    "\n",
    "    for frase in frases:\n",
    "        palabras = frase.split() \n",
    "        listas_palabras.append(palabras) # for creando el nuevo array separado\n",
    "\n",
    "    for lista in listas_palabras:\n",
    "        print(lista) # for para poner uno debajo del otro y quede mas legible\n",
    "\n",
    "    Lista_Caracter = list(list(lista) for lista in frases) # for con list para mostrar letra por letra\n",
    "\n",
    "    print(f\"{Lista_Caracter}\")\n",
    "\n",
    "    for i in frases: # for para contar las palabas y letras de cada frase, con split separamos y con len contamos.\n",
    "        cantidad = i.split()\n",
    "        print(f\"Frase: {i} : tiene {len(cantidad)} palabras y {len(i)} letras\") \n",
    "\n",
    "procesar_frases(frases) #llamamos la funcion\n"
   ]
  },
  {
   "cell_type": "markdown",
   "metadata": {},
   "source": [
    "## Ejercicio 2\n",
    "\n",
    "Escribe una función en Python que encuentre los valores de `a`, `b`, y `c` para que la función cuadrática `f(x) = aX^2 + bX + c` pase exactamente por los siguientes puntos:\n",
    "\n",
    "| x  | y  |\n",
    "|---:|---:|\n",
    "|  0 |  0 |\n",
    "|  1 |  8 |\n",
    "|  2 | 12 |\n",
    "|  3 | 12 |\n",
    "|  5 |  0 |\n",
    "\n",
    "### Requisitos:\n",
    "- La función debe explorar posibles valores de `a`, `b`, y `c` utilizando un método de prueba y error.\n",
    "- Debe devolver los valores que hagan que la diferencia entre la función `f(x)` y los valores medidos `y` sea exactamente cero para cada punto.\n",
    "\n",
    "> **Pista**: Los valores de `a`, `b`, y `c` son números pequeños."
   ]
  },
  {
   "cell_type": "code",
   "execution_count": null,
   "metadata": {},
   "outputs": [],
   "source": [
    "# Implementar"
   ]
  },
  {
   "cell_type": "code",
   "execution_count": 2,
   "metadata": {},
   "outputs": [
    {
     "name": "stdout",
     "output_type": "stream",
     "text": [
      "a = -2, b = 10, c = 0\n"
     ]
    }
   ],
   "source": [
    "#2\n",
    "def valorCuadraticos(puntos, rango=10):\n",
    "    mejor_a = mejor_b = mejor_c = None # se inicia en none para encontrar el optimo valor\n",
    "    mejor_error = float('inf') # Se inicializa en infinito positivo\n",
    "\n",
    "    for a in range(-rango, rango + 1):      # Probar diferentes valores para a, b y c\n",
    "        for b in range(-rango, rango + 1):\n",
    "            for c in range(-rango, rango + 1):\n",
    "                error_total = 0\n",
    "                \n",
    "                for x, y in puntos:  # Calcular el error total para los puntos dados\n",
    "                    f_x = a * x**2 + b * x + c\n",
    "                    error_total += abs(f_x - y)\n",
    "                \n",
    "                if error_total < mejor_error:  # Si el error total es menor actualizar los mejores valores\n",
    "                    mejor_error = error_total\n",
    "                    mejor_a, mejor_b, mejor_c = a, b, c\n",
    "\n",
    "    return mejor_a, mejor_b, mejor_c  # retorna los mejores valores de a b y c\n",
    "\n",
    "puntos = [  (0, 0),(1, 8),(2, 12),(3, 12),(5, 0)] # Lista de puntos (x, y) por los que la función debe pasar\n",
    "\n",
    "a, b, c = valorCuadraticos(puntos) # llamamos la funcion \n",
    "print(f\"a = {a}, b = {b}, c = {c}\")"
   ]
  }
 ],
 "metadata": {
  "kernelspec": {
   "display_name": "Python 3",
   "language": "python",
   "name": "python3"
  },
  "language_info": {
   "codemirror_mode": {
    "name": "ipython",
    "version": 3
   },
   "file_extension": ".py",
   "mimetype": "text/x-python",
   "name": "python",
   "nbconvert_exporter": "python",
   "pygments_lexer": "ipython3",
   "version": "3.12.5"
  }
 },
 "nbformat": 4,
 "nbformat_minor": 2
}
