{
 "cells": [
  {
   "cell_type": "markdown",
   "metadata": {},
   "source": [
    "# Trabajo práctico 1\n",
    "\n"
   ]
  },
  {
   "cell_type": "markdown",
   "metadata": {},
   "source": [
    "## Ejercicio 1 \n",
    "\n",
    "Escribe una función en Python que procese una lista de cadenas de texto y realice las siguientes acciones:\n",
    "\n",
    "1. Tomar una lista de frases y convertir cada frase en una lista de palabras.\n",
    "1. Luego, debe crear una nueva lista que contenga la cantidad de palabras en cada frase.\n",
    "1. Tambien debe crear un lista que contenga la cantidad de caracteres en cada frase.\n",
    "1. Finalmente, debe imprimir cada frase original junto con la cantidad de palabras que contiene.\n",
    "Ejemplo de uso:\n",
    "```python\n",
    "    frases = [\n",
    "        \"Python es un lenguaje de programación\",\n",
    "        \"Me gusta resolver problemas con código\",\n",
    "        \"Las listas y los bucles son muy útiles\"\n",
    "    ]\n",
    "\n",
    "    procesar_frases(frases)\n",
    "```\n",
    "\n",
    "ejemplo de salida:\n",
    "```bash\n",
    "    La frase: \"Python es un...\"\n",
    "    tiene 6 palabras y 38 caracteres\n",
    "```\n"
   ]
  },
  {
   "cell_type": "code",
   "execution_count": null,
   "metadata": {},
   "outputs": [],
   "source": [
    "# Implementar"
   ]
  },
  {
   "cell_type": "markdown",
   "metadata": {},
   "source": [
    "## Ejercicio 2\n",
    "\n",
    "Escribe una función en Python que encuentre los valores de `a`, `b`, y `c` para que la función cuadrática `f(x) = aX^2 + bX + c` pase exactamente por los siguientes puntos:\n",
    "\n",
    "| x  | y  |\n",
    "|---:|---:|\n",
    "|  0 |  0 |\n",
    "|  1 |  8 |\n",
    "|  2 | 12 |\n",
    "|  3 | 12 |\n",
    "|  5 |  0 |\n",
    "\n",
    "### Requisitos:\n",
    "- La función debe explorar posibles valores de `a`, `b`, y `c` utilizando un método de prueba y error.\n",
    "- Debe devolver los valores que hagan que la diferencia entre la función `f(x)` y los valores medidos `y` sea exactamente cero para cada punto.\n",
    "\n",
    "> **Pista**: Los valores de `a`, `b`, y `c` son números pequeños."
   ]
  },
  {
   "cell_type": "code",
   "execution_count": 3,
   "metadata": {},
   "outputs": [
    {
     "name": "stdout",
     "output_type": "stream",
     "text": [
      "La frase 'Python es un lenguaje de programacion' tiene 6 palabras y 37 caracteres.\n",
      "La frase 'Me gusta resolver problemas con código' tiene 6 palabras y 38 caracteres.\n",
      "La frase 'Las listas y los bucles son muy utiles' tiene 8 palabras y 38 caracteres.\n"
     ]
    }
   ],
   "source": [
    "# Implementar\n",
    "\n",
    "# PUNTO 1 \n",
    "\n",
    "frases = [\"Python es un lenguaje de programacion\",   \"Me gusta resolver problemas con código\", \"Las listas y los bucles son muy utiles\"]\n",
    "\n",
    "def frasesfuncion(frases):\n",
    "    Cadena_palabras = []\n",
    "    Cadena_Caracteres = []\n",
    "    for frase in frases:\n",
    "        fraseunica = frase.split()  \n",
    "        cantidad_palabras = len(fraseunica)  \n",
    "        cantidad_caracteres = len(frase)  \n",
    "        Cadena_palabras.append(cantidad_palabras)  \n",
    "        Cadena_Caracteres.append(cantidad_caracteres)  \n",
    "        print(f\"La frase '{frase}' tiene {cantidad_palabras} palabras y {cantidad_caracteres} caracteres.\")\n",
    "frasesfuncion(frases)"
   ]
  },
  {
   "cell_type": "code",
   "execution_count": 5,
   "metadata": {},
   "outputs": [
    {
     "name": "stdout",
     "output_type": "stream",
     "text": [
      "Los coeficientes que hacen que la parábola pase por todos los puntos son: a = -2, b = 10, c = 0\n"
     ]
    }
   ],
   "source": [
    "# PUNTO 2\n",
    "\n",
    "\n",
    "def encontrarCoeficientes():\n",
    "    coordenadas = [(0, 0), (1, 8), (2, 12), (3, 12), (5, 0)]\n",
    "    for coef_a in range(-10, 11): \n",
    "        \n",
    "        for coef_b in range(-10, 11): \n",
    "            \n",
    "            for coef_c in range(-10, 11):  \n",
    "                \n",
    "                es_solucion = True\n",
    "                \n",
    "                for x, y in coordenadas: \n",
    "                     \n",
    "                    fx = coef_a * x**2 + coef_b * x + coef_c\n",
    "                    \n",
    "                    if fx != y:\n",
    "                        \n",
    "                        es_solucion = False\n",
    "                        break\n",
    "                if es_solucion:\n",
    "                     return coef_a, coef_b, coef_c  \n",
    "\n",
    "\n",
    "a, b, c = encontrarCoeficientes()\n",
    "print(f'Los coeficientes que hacen que la parábola pase por todos los puntos son: a = {a}, b = {b}, c = {c}')\n",
    "\n",
    "\n"
   ]
  }
 ],
 "metadata": {
  "kernelspec": {
   "display_name": "Python 3",
   "language": "python",
   "name": "python3"
  },
  "language_info": {
   "codemirror_mode": {
    "name": "ipython",
    "version": 3
   },
   "file_extension": ".py",
   "mimetype": "text/x-python",
   "name": "python",
   "nbconvert_exporter": "python",
   "pygments_lexer": "ipython3",
   "version": "3.12.6"
  }
 },
 "nbformat": 4,
 "nbformat_minor": 2
}
