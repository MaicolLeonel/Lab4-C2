{
 "cells": [
  {
   "cell_type": "markdown",
   "metadata": {},
   "source": [
    "# Trabajo práctico 1\n",
    "\n"
   ]
  },
  {
   "cell_type": "markdown",
   "metadata": {},
   "source": [
    "## Ejercicio 1 \n",
    "\n",
    "Escribe una función en Python que procese una lista de cadenas de texto y realice las siguientes acciones:\n",
    "\n",
    "1. Tomar una lista de frases y convertir cada frase en una lista de palabras.\n",
    "1. Luego, debe crear una nueva lista que contenga la cantidad de palabras en cada frase.\n",
    "1. Tambien debe crear un lista que contenga la cantidad de caracteres en cada frase.\n",
    "1. Finalmente, debe imprimir cada frase original junto con la cantidad de palabras que contiene.\n",
    "Ejemplo de uso:\n",
    "```python\n",
    "    frases = [\n",
    "        \"Python es un lenguaje de programación\",\n",
    "        \"Me gusta resolver problemas con código\",\n",
    "        \"Las listas y los bucles son muy útiles\"\n",
    "    ]\n",
    "\n",
    "    procesar_frases(frases)\n",
    "```\n",
    "\n",
    "ejemplo de salida:\n",
    "```bash\n",
    "    La frase: \"Python es un...\"\n",
    "    tiene 6 palabras y 38 caracteres\n",
    "```\n"
   ]
  },
  {
   "cell_type": "code",
   "execution_count": 1,
   "metadata": {},
   "outputs": [
    {
     "name": "stdout",
     "output_type": "stream",
     "text": [
      "Frase: 'Buenas tardes Profesor' - Cantidad de palabras: 3\n",
      "Frase: 'Soy su alumno Nuñez Walter Exequiel' - Cantidad de palabras: 6\n",
      "Frase: 'Python es genial.' - Cantidad de palabras: 3\n",
      "\n",
      "Lista de cantidad de palabras por frase: [3, 6, 3]\n",
      "Lista de cantidad de caracteres por frase: [22, 35, 17]\n"
     ]
    }
   ],
   "source": [
    "# Implementar\n",
    "\n",
    "def procesar_frases(lista_frases):\n",
    "    \n",
    "    lista_palabras_por_frase = [frase.split() for frase in lista_frases]\n",
    "    \n",
    "    cantidad_palabras = [len(palabras) for palabras in lista_palabras_por_frase]\n",
    "    \n",
    "    cantidad_caracteres = [len(frase) for frase in lista_frases]\n",
    "    \n",
    "    for i, frase in enumerate(lista_frases):\n",
    "        print(f\"Frase: '{frase}' - Cantidad de palabras: {cantidad_palabras[i]}\")\n",
    "        \n",
    "    return cantidad_palabras,cantidad_caracteres    \n",
    "\n",
    "frases = [\n",
    "    \"Buenas tardes Profesor\",\n",
    "    \"Soy su alumno Nuñez Walter Exequiel\",\n",
    "    \"Python es genial.\"\n",
    "]\n",
    "\n",
    "cantidad_palabras, cantidad_caracteres = procesar_frases(frases)\n",
    "\n",
    "print(\"\\nLista de cantidad de palabras por frase:\", cantidad_palabras)\n",
    "print(\"Lista de cantidad de caracteres por frase:\", cantidad_caracteres)"
   ]
  },
  {
   "cell_type": "markdown",
   "metadata": {},
   "source": [
    "## Ejercicio 2\n",
    "\n",
    "Escribe una función en Python que encuentre los valores de `a`, `b`, y `c` para que la función cuadrática `f(x) = aX^2 + bX + c` pase exactamente por los siguientes puntos:\n",
    "\n",
    "| x  | y  |\n",
    "|---:|---:|\n",
    "|  0 |  0 |\n",
    "|  1 |  8 |\n",
    "|  2 | 12 |\n",
    "|  3 | 12 |\n",
    "|  5 |  0 |\n",
    "\n",
    "### Requisitos:\n",
    "- La función debe explorar posibles valores de `a`, `b`, y `c` utilizando un método de prueba y error.\n",
    "- Debe devolver los valores que hagan que la diferencia entre la función `f(x)` y los valores medidos `y` sea exactamente cero para cada punto.\n",
    "\n",
    "> **Pista**: Los valores de `a`, `b`, y `c` son números pequeños."
   ]
  },
  {
   "cell_type": "code",
   "execution_count": 2,
   "metadata": {},
   "outputs": [
    {
     "name": "stdout",
     "output_type": "stream",
     "text": [
      "Los coeficientes de la función cuadrática son: a = -2, b = 10, c = 0\n",
      "f(0) = 0, valor esperado: 0\n",
      "f(1) = 8, valor esperado: 8\n",
      "f(2) = 12, valor esperado: 12\n",
      "f(3) = 12, valor esperado: 12\n",
      "f(5) = 0, valor esperado: 0\n"
     ]
    }
   ],
   "source": [
    "# Implementar\n",
    "\n",
    "def encontrar_coeficientes():\n",
    "    # Paso 1: Resolver la primera ecuación para 'b' en términos de 'a'\n",
    "    # a + b = 8  =>  b = 8 - a\n",
    "    # Usamos esta expresión en las siguientes ecuaciones\n",
    "\n",
    "    # Paso 2: Sustituimos en las demás ecuaciones:\n",
    "    # 4a + 2b = 12  =>  4a + 2(8 - a) = 12  =>  4a + 16 - 2a = 12  =>  2a = -4  =>  a = -2\n",
    "    a = -2\n",
    "\n",
    "    # Paso 3: Con el valor de 'a', calculamos 'b'\n",
    "    # b = 8 - a = 8 - (-2) = 10\n",
    "    b = 10\n",
    "\n",
    "    # Paso 4: Sabemos que c = 0\n",
    "    c = 0\n",
    "\n",
    "    return a, b, c\n",
    "\n",
    "# Encontrar los coeficientes\n",
    "a, b, c = encontrar_coeficientes()\n",
    "\n",
    "# Mostrar los resultados\n",
    "print(f\"Los coeficientes de la función cuadrática son: a = {a}, b = {b}, c = {c}\")\n",
    "\n",
    "# Comprobación\n",
    "def f(x):\n",
    "    return a * x**2 + b * x + c\n",
    "\n",
    "# Lista de puntos\n",
    "puntos = [(0, 0), (1, 8), (2, 12), (3, 12), (5, 0)]\n",
    "\n",
    "# Mostrar si pasa por cada punto\n",
    "for x, y in puntos:\n",
    "    print(f\"f({x}) = {f(x)}, valor esperado: {y}\")"
   ]
  }
 ],
 "metadata": {
  "kernelspec": {
   "display_name": "Python 3",
   "language": "python",
   "name": "python3"
  },
  "language_info": {
   "codemirror_mode": {
    "name": "ipython",
    "version": 3
   },
   "file_extension": ".py",
   "mimetype": "text/x-python",
   "name": "python",
   "nbconvert_exporter": "python",
   "pygments_lexer": "ipython3",
   "version": "3.12.5"
  }
 },
 "nbformat": 4,
 "nbformat_minor": 2
}
