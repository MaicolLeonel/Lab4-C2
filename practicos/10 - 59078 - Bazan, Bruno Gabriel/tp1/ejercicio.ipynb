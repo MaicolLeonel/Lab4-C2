{
 "cells": [
  {
   "cell_type": "markdown",
   "metadata": {},
   "source": [
    "# Trabajo práctico 1\n",
    "\n"
   ]
  },
  {
   "cell_type": "markdown",
   "metadata": {},
   "source": [
    "## Ejercicio 1 \n",
    "\n",
    "Escribe una función en Python que procese una lista de cadenas de texto y realice las siguientes acciones:\n",
    "\n",
    "1. Tomar una lista de frases y convertir cada frase en una lista de palabras.\n",
    "1. Luego, debe crear una nueva lista que contenga la cantidad de palabras en cada frase.\n",
    "1. Tambien debe crear un lista que contenga la cantidad de caracteres en cada frase.\n",
    "1. Finalmente, debe imprimir cada frase original junto con la cantidad de palabras que contiene.\n",
    "Ejemplo de uso:\n",
    "```python\n",
    "    frases = [\n",
    "        \"Python es un lenguaje de programación\",\n",
    "        \"Me gusta resolver problemas con código\",\n",
    "        \"Las listas y los bucles son muy útiles\"\n",
    "    ]\n",
    "\n",
    "    procesar_frases(frases)\n",
    "```\n",
    "\n",
    "ejemplo de salida:\n",
    "```bash\n",
    "    La frase: \"Python es un...\"\n",
    "    tiene 6 palabras y 38 caracteres\n",
    "```\n"
   ]
  },
  {
   "cell_type": "code",
   "execution_count": 21,
   "metadata": {},
   "outputs": [
    {
     "name": "stdout",
     "output_type": "stream",
     "text": [
      "la frase: \"Mi Nombre es Bruno\" tiene 4 palabras y 18 caracteres\n",
      "la frase: \"Mi Apellido es Bazan\" tiene 4 palabras y 20 caracteres\n",
      "la frase: \"Mi edad es 20\" tiene 4 palabras y 13 caracteres\n"
     ]
    }
   ],
   "source": [
    "frases = [\"Mi Nombre es Bruno\", \"Mi Apellido es Bazan\", \"Mi edad es 20\"] #defino la lista de frases\n",
    "\n",
    "def ejercicio1(frases):#defino la funcion y le paso la lista de frases\n",
    "    resultado = []#defino una lista vacia para guardar los resultados\n",
    "    for frase in frases:\n",
    "\n",
    "        palabras = len(frase.split())#cuento las palabras de la frase\n",
    "        caracteres = len(frase)#cuento los caracteres de la frase\n",
    "        resultado.append((frase, palabras, caracteres))#agrego los resultados a la lista vacia\n",
    "        \n",
    "\n",
    "\n",
    "        print( f'la frase: \"{frase}\" tiene {palabras} palabras y {caracteres} caracteres')#imprimo los resultados\n",
    "\n",
    "ejercicio1(frases)#llamo a la funcion y le paso la lista de frases\n"
   ]
  },
  {
   "cell_type": "markdown",
   "metadata": {},
   "source": [
    "## Ejercicio 2\n",
    "\n",
    "Escribe una función en Python que encuentre los valores de `a`, `b`, y `c` para que la función cuadrática `f(x) = aX^2 + bX + c` pase exactamente por los siguientes puntos:\n",
    "\n",
    "| x  | y  |\n",
    "|---:|---:|\n",
    "|  0 |  0 |\n",
    "|  1 |  8 |\n",
    "|  2 | 12 |\n",
    "|  3 | 12 |\n",
    "|  5 |  0 |\n",
    "\n",
    "### Requisitos:\n",
    "- La función debe explorar posibles valores de `a`, `b`, y `c` utilizando un método de prueba y error.\n",
    "- Debe devolver los valores que hagan que la diferencia entre la función `f(x)` y los valores medidos `y` sea exactamente cero para cada punto.\n",
    "\n",
    "> **Pista**: Los valores de `a`, `b`, y `c` son números pequeños."
   ]
  },
  {
   "cell_type": "code",
   "execution_count": 9,
   "metadata": {},
   "outputs": [
    {
     "name": "stdout",
     "output_type": "stream",
     "text": [
      "Los valores de a, b, y c son: (-2, 10, 0)\n"
     ]
    }
   ],
   "source": [
    "def encontrar_coeficientes():\n",
    "    # Definimos los puntos dados (x, y)\n",
    "    puntos = [(0, 0), (1, 8), (2, 12), (3, 12), (5, 0)]\n",
    "\n",
    "    # Buscamos los coeficientes de la ecuación cuadrática en una rango de -10 a 10\n",
    "    for a in range(-10, 11):\n",
    "        for b in range(-10, 11):\n",
    "            for c in range(-10, 11):\n",
    "                resultado = True\n",
    "                # Verificar si la ecuación cuadrática pasa por todos los puntos\n",
    "                for x, y in puntos:\n",
    "                    # ahora la ecuacion cuadratica es asginada a la variable f_x\n",
    "                    f_x = a * x**2 + b * x + c\n",
    "                    if f_x != y:  # Si no pasa por el punto, no es la solución\n",
    "                        resultado = False\n",
    "                        break\n",
    "                \n",
    "                # Si la ecuación cuadrática pasa por todos los puntos, devolver los coeficientes\n",
    "                if resultado: \n",
    "                    return a, b, c\n",
    "\n",
    "coeficientes=encontrar_coeficientes()#llamamos a la funcion y la guardamos en una variable\n",
    "\n",
    "if coeficientes:#si la variable tiene un valor muestra este mensaje\n",
    "    print(f\"Los valores de a, b, y c son: {coeficientes}\")\n",
    "else:#si no tiene valor muestra este mensaje\n",
    "    print(\"No se encontraron coeficientes que cumplan con las condiciones dadas\")"
   ]
  }
 ],
 "metadata": {
  "kernelspec": {
   "display_name": "Python 3",
   "language": "python",
   "name": "python3"
  },
  "language_info": {
   "codemirror_mode": {
    "name": "ipython",
    "version": 3
   },
   "file_extension": ".py",
   "mimetype": "text/x-python",
   "name": "python",
   "nbconvert_exporter": "python",
   "pygments_lexer": "ipython3",
   "version": "3.12.5"
  }
 },
 "nbformat": 4,
 "nbformat_minor": 2
}
