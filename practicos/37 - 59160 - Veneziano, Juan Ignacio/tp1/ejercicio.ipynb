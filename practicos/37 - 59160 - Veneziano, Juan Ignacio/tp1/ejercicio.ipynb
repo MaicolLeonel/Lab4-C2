{
 "cells": [
  {
   "cell_type": "markdown",
   "metadata": {},
   "source": [
    "# Trabajo práctico 1\n",
    "\n"
   ]
  },
  {
   "cell_type": "markdown",
   "metadata": {},
   "source": [
    "## Ejercicio 1 \n",
    "\n",
    "Escribe una función en Python que procese una lista de cadenas de texto y realice las siguientes acciones:\n",
    "\n",
    "1. Tomar una lista de frases y convertir cada frase en una lista de palabras.\n",
    "1. Luego, debe crear una nueva lista que contenga la cantidad de palabras en cada frase.\n",
    "1. Tambien debe crear un lista que contenga la cantidad de caracteres en cada frase.\n",
    "1. Finalmente, debe imprimir cada frase original junto con la cantidad de palabras que contiene.\n",
    "Ejemplo de uso:\n",
    "```python\n",
    "    frases = [\n",
    "        \"Python es un lenguaje de programación\",\n",
    "        \"Me gusta resolver problemas con código\",\n",
    "        \"Las listas y los bucles son muy útiles\"\n",
    "    ]\n",
    "\n",
    "    procesar_frases(frases)\n",
    "```\n",
    "\n",
    "ejemplo de salida:\n",
    "```bash\n",
    "    La frase: \"Python es un...\"\n",
    "    tiene 6 palabras y 38 caracteres\n",
    "```\n"
   ]
  },
  {
   "cell_type": "code",
   "execution_count": null,
   "metadata": {},
   "outputs": [],
   "source": [
    "def procesar_cadena (lista_de_textos):\n",
    "    lista_cantidad_palabras =[]\n",
    "    lista_cantidad_caracteres = []\n",
    "    for i in lista_de_textos:\n",
    "        lista_de_palabras = i.split() #1\n",
    "        \n",
    "        cantidad_palabras_frase = len(lista_de_palabras)\n",
    "        lista_cantidad_palabras.append(cantidad_palabras_frase) #2\n",
    "        \n",
    "        cantidad_caracteres_frase = len(i)\n",
    "        lista_cantidad_caracteres.append(cantidad_caracteres_frase)#3\n",
    "        \n",
    "        print(f\"La cadena de texto {i} cuenta con {cantidad_palabras_frase} palabras y con {cantidad_caracteres_frase} caracteres\")#4\n",
    "       \n",
    "        \n",
    "        \n",
    "        \n",
    "        \n",
    "        \n",
    "\n",
    "\n",
    "frases = [\"Python es un lenguaje de programación\",\"Me gusta resolver problemas con código\",\"Las listas y los bucles son muy útiles\"]\n",
    "        \n",
    "procesar_cadena(frases)"
   ]
  },
  {
   "cell_type": "markdown",
   "metadata": {},
   "source": [
    "## Ejercicio 2\n",
    "\n",
    "Escribe una función en Python que encuentre los valores de `a`, `b`, y `c` para que la función cuadrática `f(x) = aX^2 + bX + c` pase exactamente por los siguientes puntos:\n",
    "\n",
    "| x  | y  |\n",
    "|---:|---:|\n",
    "|  0 |  0 |\n",
    "|  1 |  8 |\n",
    "|  2 | 12 |\n",
    "|  3 | 12 |\n",
    "|  5 |  0 |\n",
    "\n",
    "### Requisitos:\n",
    "- La función debe explorar posibles valores de `a`, `b`, y `c` utilizando un método de prueba y error.\n",
    "- Debe devolver los valores que hagan que la diferencia entre la función `f(x)` y los valores medidos `y` sea exactamente cero para cada punto.\n",
    "\n",
    "> **Pista**: Los valores de `a`, `b`, y `c` son números pequeños."
   ]
  },
  {
   "cell_type": "code",
   "execution_count": null,
   "metadata": {},
   "outputs": [],
   "source": [
    "def encontrar_valores ():\n",
    "    for a in range(-10, 11):\n",
    "      for b in range(-10, 11):\n",
    "        for c in range(-10, 11):\n",
    "            if (a*0**2 + b*0 + c == 0 and\n",
    "                a*1**2 + b*1 + c == 8 and\n",
    "                a*2**2 + b*2 + c == 12 and\n",
    "                a*3**2 + b*3 + c == 12 and\n",
    "                a*5**2 + b*5 + c == 0):\n",
    "                return a,b,c\n",
    "A,B,C = encontrar_valores()\n",
    "print (f\"a={A}; b={B}; c={C}\")            \n",
    "          "
   ]
  }
 ],
 "metadata": {
  "language_info": {
   "name": "python"
  }
 },
 "nbformat": 4,
 "nbformat_minor": 2
}
