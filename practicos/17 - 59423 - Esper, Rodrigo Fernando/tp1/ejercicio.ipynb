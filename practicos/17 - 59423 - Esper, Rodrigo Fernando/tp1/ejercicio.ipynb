{
 "cells": [
  {
   "cell_type": "markdown",
   "metadata": {},
   "source": [
    "# Trabajo práctico 1\n",
    "\n"
   ]
  },
  {
   "cell_type": "markdown",
   "metadata": {},
   "source": [
    "## Ejercicio 1 \n",
    "\n",
    "Escribe una función en Python que procese una lista de cadenas de texto y realice las siguientes acciones:\n",
    "\n",
    "1. Tomar una lista de frases y convertir cada frase en una lista de palabras.\n",
    "1. Luego, debe crear una nueva lista que contenga la cantidad de palabras en cada frase.\n",
    "1. Tambien debe crear un lista que contenga la cantidad de caracteres en cada frase.\n",
    "1. Finalmente, debe imprimir cada frase original junto con la cantidad de palabras que contiene.\n",
    "Ejemplo de uso:\n",
    "```python\n",
    "    frases = [\n",
    "        \"Python es un lenguaje de programación\",\n",
    "        \"Me gusta resolver problemas con código\",\n",
    "        \"Las listas y los bucles son muy útiles\"\n",
    "    ]\n",
    "\n",
    "    procesar_frases(frases)\n",
    "```\n",
    "\n",
    "ejemplo de salida:\n",
    "```bash\n",
    "    La frase: \"Python es un...\"\n",
    "    tiene 6 palabras y 38 caracteres\n",
    "```\n"
   ]
  },
  {
   "cell_type": "code",
   "execution_count": 1,
   "metadata": {},
   "outputs": [
    {
     "name": "stdout",
     "output_type": "stream",
     "text": [
      "La frase Python es un lenguaje de programacion : tiene 6 palabras y 37 caracteres\n",
      "La frase Me gusta resolver problemas con codigo : tiene 6 palabras y 38 caracteres\n",
      "La frase Las listas y los bucles son muy utiles : tiene 8 palabras y 38 caracteres\n"
     ]
    }
   ],
   "source": [
    "# Desarrollo\n",
    "def listaFrases(f):   #defino la funcion\n",
    "    for i in f:    #inicio el recorrido de la lista con las frases\n",
    "        p = i.split()   #con le split separo las palabras de las frases y la alojo en la variable p\n",
    "        print(f\"La frase {i} : tiene {len(p)} palabras y {len(i)} caracteres\")\n",
    "\n",
    "frases = [\"Python es un lenguaje de programacion\", \"Me gusta resolver problemas con codigo\", \"Las listas y los bucles son muy utiles\"]\n",
    "\n",
    "listaFrases(frases)\n"
   ]
  },
  {
   "cell_type": "markdown",
   "metadata": {},
   "source": [
    "## Ejercicio 2\n",
    "\n",
    "Escribe una función en Python que encuentre los valores de `a`, `b`, y `c` para que la función cuadrática `f(x) = aX^2 + bX + c` pase exactamente por los siguientes puntos:\n",
    "\n",
    "| x  | y  |\n",
    "|---:|---:|\n",
    "|  0 |  0 |\n",
    "|  1 |  8 |\n",
    "|  2 | 12 |\n",
    "|  3 | 12 |\n",
    "|  5 |  0 |\n",
    "\n",
    "### Requisitos:\n",
    "- La función debe explorar posibles valores de `a`, `b`, y `c` utilizando un método de prueba y error.\n",
    "- Debe devolver los valores que hagan que la diferencia entre la función `f(x)` y los valores medidos `y` sea exactamente cero para cada punto.\n",
    "\n",
    "> **Pista**: Los valores de `a`, `b`, y `c` son números pequeños."
   ]
  },
  {
   "cell_type": "code",
   "execution_count": 2,
   "metadata": {},
   "outputs": [
    {
     "name": "stdout",
     "output_type": "stream",
     "text": [
      "Valores encontrados: a=-2, b=10, c=0\n"
     ]
    }
   ],
   "source": [
    "# Desarrollo\n",
    "\n",
    "# Definir la función cuadrática\n",
    "def f(x, a, b, c):\n",
    "    # Calcula el valor de la función cuadrática para un valor x dado y coeficientes a, b, c\n",
    "    return a * x**2 + b * x + c\n",
    "\n",
    "# Lista de puntos (x, y)\n",
    "puntos = [(0, 0), (1, 8), (2, 12), (3, 12), (5, 0)]\n",
    "\n",
    "# Explorar posibles valores de a, b, y c\n",
    "for a in range(-10, 11):  # Itera sobre posibles valores de a desde -10 hasta 10\n",
    "    for b in range(-10, 11):  # Itera sobre posibles valores de b desde -10 hasta 10\n",
    "        for c in range(-10, 11):  # Itera sobre posibles valores de c desde -10 hasta 10\n",
    "            \n",
    "            # Verificar si los valores de a, b, y c satisfacen todos los puntos\n",
    "            es_valido = True  # Asume que los valores son válidos hasta que se demuestre lo contrario\n",
    "            for x, y in puntos:  # Itera sobre cada punto (x, y) en la lista de puntos\n",
    "                if f(x, a, b, c) != y:  # Comprueba si la función cuadrática con los valores actuales de a, b, y c pasa por el punto (x, y)\n",
    "                    es_valido = False  # Si no pasa por el punto, marca los valores como no válidos\n",
    "                    break  # Sale del bucle de puntos porque ya no es necesario comprobar más\n",
    "            if es_valido:  # Si los valores de a, b, y c son válidos para todos los puntos\n",
    "                print(f\"Valores encontrados: a={a}, b={b}, c={c}\")  # Imprime los valores encontrados\n",
    "                break  # Sale del bucle de valores de c\n",
    "        if es_valido:  # Si los valores de a, b, y c son válidos para todos los puntos\n",
    "            break  # Sale del bucle de valores de b\n",
    "    if es_valido:  # Si los valores de a, b, y c son válidos para todos los puntos\n",
    "        break  # Sale del bucle de valores de a"
   ]
  }
 ],
 "metadata": {
  "kernelspec": {
   "display_name": "Python 3",
   "language": "python",
   "name": "python3"
  },
  "language_info": {
   "codemirror_mode": {
    "name": "ipython",
    "version": 3
   },
   "file_extension": ".py",
   "mimetype": "text/x-python",
   "name": "python",
   "nbconvert_exporter": "python",
   "pygments_lexer": "ipython3",
   "version": "3.12.5"
  }
 },
 "nbformat": 4,
 "nbformat_minor": 2
}
