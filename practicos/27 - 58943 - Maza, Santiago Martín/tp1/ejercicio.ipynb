{
 "cells": [
  {
   "cell_type": "markdown",
   "metadata": {},
   "source": [
    "# Trabajo práctico 1\n",
    "\n"
   ]
  },
  {
   "cell_type": "markdown",
   "metadata": {},
   "source": [
    "## Ejercicio 1 \n",
    "\n",
    "Escribe una función en Python que procese una lista de cadenas de texto y realice las siguientes acciones:\n",
    "\n",
    "1. Tomar una lista de frases y convertir cada frase en una lista de palabras.\n",
    "1. Luego, debe crear una nueva lista que contenga la cantidad de palabras en cada frase.\n",
    "1. Tambien debe crear un lista que contenga la cantidad de caracteres en cada frase.\n",
    "1. Finalmente, debe imprimir cada frase original junto con la cantidad de palabras que contiene.\n",
    "Ejemplo de uso:\n",
    "```python\n",
    "    frases = [\n",
    "        \"Python es un lenguaje de programación\",\n",
    "        \"Me gusta resolver problemas con código\",\n",
    "        \"Las listas y los bucles son muy útiles\"\n",
    "    ]\n",
    "\n",
    "    procesar_frases(frases)\n",
    "```\n",
    "\n",
    "ejemplo de salida:\n",
    "```bash\n",
    "    La frase: \"Python es un...\"\n",
    "    tiene 6 palabras y 38 caracteres\n",
    "```\n"
   ]
  },
  {
   "cell_type": "code",
   "execution_count": null,
   "metadata": {},
   "outputs": [],
   "source": [
    "frasesPython = [\"Hola mundo desde Python\", \"River Plate es el más grande de Argentina\"]\n",
    "\n",
    "def procesarLista(lista):\n",
    "    listaPalabras = []\n",
    "    cantidadPalabras = []\n",
    "    cantidadCaracteres = []\n",
    "\n",
    "    for palabras in lista:\n",
    "        palabra = palabras.split() \n",
    "        listaPalabras.append(palabra)\n",
    "\n",
    "    for palabra in listaPalabras:\n",
    "        cantidad = len(palabra)\n",
    "        cantidadPalabras.append(cantidad)  \n",
    "\n",
    "    for caracter in lista:\n",
    "        char = len(caracter)\n",
    "        cantidadCaracteres.append(char)\n",
    "\n",
    "    for i, frase in enumerate(lista):\n",
    "        return f\"La frase '{frase}' contiene {cantidadPalabras[i]} palabras y {cantidadCaracteres[i]} caracteres\"\n",
    "\n",
    "    return listaPalabras, cantidadPalabras, cantidadCaracteres\n",
    "        \n",
    "procesarLista(frasesPython)"
   ]
  },
  {
   "cell_type": "markdown",
   "metadata": {},
   "source": [
    "## Ejercicio 2\n",
    "\n",
    "Escribe una función en Python que encuentre los valores de `a`, `b`, y `c` para que la función cuadrática `f(x) = aX^2 + bX + c` pase exactamente por los siguientes puntos:\n",
    "\n",
    "| x  | y  |\n",
    "|---:|---:|\n",
    "|  0 |  0 |\n",
    "|  1 |  8 |\n",
    "|  2 | 12 |\n",
    "|  3 | 12 |\n",
    "|  5 |  0 |\n",
    "\n",
    "### Requisitos:\n",
    "- La función debe explorar posibles valores de `a`, `b`, y `c` utilizando un método de prueba y error.\n",
    "- Debe devolver los valores que hagan que la diferencia entre la función `f(x)` y los valores medidos `y` sea exactamente cero para cada punto.\n",
    "\n",
    "> **Pista**: Los valores de `a`, `b`, y `c` son números pequeños."
   ]
  },
  {
   "cell_type": "code",
   "execution_count": 5,
   "metadata": {},
   "outputs": [
    {
     "data": {
      "text/plain": [
       "'Los valores de A,B y C son: a = -2.0, b = 10.0:, c = -0.0'"
      ]
     },
     "execution_count": 5,
     "metadata": {},
     "output_type": "execute_result"
    }
   ],
   "source": [
    "import numpy as np\n",
    "puntos = ((0,0), (1,8), (2,12), (3,12), (5,0))\n",
    "\n",
    "def encontrarValores(puntos_funcion):\n",
    "    array = np.array(puntos_funcion)\n",
    "    \n",
    "    x = array[:, 0]\n",
    "    y = array[:, 1]\n",
    "\n",
    "    coeficientes = np.polyfit(x,y,2)\n",
    "    a,b,c = coeficientes\n",
    "        \n",
    "    return f\"Los valores de a,b y c son: a = {a:.1f}, b = {b:.1f}:, c = {c:.1f}\"        \n",
    "    \n",
    "encontrarValores(puntos)"
   ]
  }
 ],
 "metadata": {
  "kernelspec": {
   "display_name": "Python 3",
   "language": "python",
   "name": "python3"
  },
  "language_info": {
   "codemirror_mode": {
    "name": "ipython",
    "version": 3
   },
   "file_extension": ".py",
   "mimetype": "text/x-python",
   "name": "python",
   "nbconvert_exporter": "python",
   "pygments_lexer": "ipython3",
   "version": "3.12.5"
  }
 },
 "nbformat": 4,
 "nbformat_minor": 2
}
