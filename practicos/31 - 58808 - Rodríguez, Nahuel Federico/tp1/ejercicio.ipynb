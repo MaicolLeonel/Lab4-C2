{
 "cells": [
  {
   "cell_type": "markdown",
   "metadata": {},
   "source": [
    "# Trabajo práctico 1\n",
    "\n"
   ]
  },
  {
   "cell_type": "markdown",
   "metadata": {},
   "source": [
    "## Ejercicio 1 \n",
    "\n",
    "Escribe una función en Python que procese una lista de cadenas de texto y realice las siguientes acciones:\n",
    "\n",
    "1. Tomar una lista de frases y convertir cada frase en una lista de palabras.\n",
    "1. Luego, debe crear una nueva lista que contenga la cantidad de palabras en cada frase.\n",
    "1. Tambien debe crear un lista que contenga la cantidad de caracteres en cada frase.\n",
    "1. Finalmente, debe imprimir cada frase original junto con la cantidad de palabras que contiene.\n",
    "Ejemplo de uso:\n",
    "```python\n",
    "    frases = [\n",
    "        \"Python es un lenguaje de programación\",\n",
    "        \"Me gusta resolver problemas con código\",\n",
    "        \"Las listas y los bucles son muy útiles\"\n",
    "    ]\n",
    "\n",
    "    procesar_frases(frases)\n",
    "```\n",
    "\n",
    "ejemplo de salida:\n",
    "```bash\n",
    "    La frase: \"Python es un...\"\n",
    "    tiene 6 palabras y 38 caracteres\n",
    "```\n"
   ]
  },
  {
   "cell_type": "code",
   "execution_count": 3,
   "metadata": {},
   "outputs": [
    {
     "name": "stdout",
     "output_type": "stream",
     "text": [
      "la frase: Python es un lenguaje de programación tiene 6 palabras y 37 caracteres\n",
      "la frase: Me gusta resolver problemas con código tiene 6 palabras y 38 caracteres\n",
      "la frase: Las listas y los bucles son muy útiles tiene 8 palabras y 38 caracteres\n"
     ]
    }
   ],
   "source": [
    "# Implementar\n",
    "\n",
    "frases = [\n",
    "        \"Python es un lenguaje de programación\",\n",
    "        \"Me gusta resolver problemas con código\",\n",
    "        \"Las listas y los bucles son muy útiles\"\n",
    "    ]\n",
    "\n",
    "\n",
    "# funcion \n",
    "def procesar_frases(frases):\n",
    "    frasesAux = frases[:]\n",
    "    # 1\n",
    "    for i, x in enumerate(frasesAux) :\n",
    "        frasesAux[i]=x.split(\" \")\n",
    "    # 2\n",
    "    frases2 = []\n",
    "    for x in frasesAux:\n",
    "        frases2.append(len(x))\n",
    "\n",
    "    #3\n",
    "    frases3 = []\n",
    "    for x in frases:\n",
    "        frases3.append(len(x))\n",
    "\n",
    "    #4\n",
    "    for i, x in enumerate(frases):\n",
    "     print(f\"la frase: {x} tiene {frases2[i]} palabras y {frases3[i]} caracteres\") \n",
    "\n",
    "procesar_frases(frases)     \n",
    "  "
   ]
  },
  {
   "cell_type": "markdown",
   "metadata": {},
   "source": [
    "## Ejercicio 2\n",
    "\n",
    "Escribe una función en Python que encuentre los valores de `a`, `b`, y `c` para que la función cuadrática `f(x) = aX^2 + bX + c` pase exactamente por los siguientes puntos:\n",
    "\n",
    "| x  | y  |\n",
    "|---:|---:|\n",
    "|  0 |  0 |\n",
    "|  1 |  8 |\n",
    "|  2 | 12 |\n",
    "|  3 | 12 |\n",
    "|  5 |  0 |\n",
    "\n",
    "### Requisitos:\n",
    "- La función debe explorar posibles valores de `a`, `b`, y `c` utilizando un método de prueba y error.\n",
    "- Debe devolver los valores que hagan que la diferencia entre la función `f(x)` y los valores medidos `y` sea exactamente cero para cada punto.\n",
    "\n",
    "> **Pista**: Los valores de `a`, `b`, y `c` son números pequeños."
   ]
  },
  {
   "cell_type": "code",
   "execution_count": 24,
   "metadata": {},
   "outputs": [
    {
     "name": "stdout",
     "output_type": "stream",
     "text": [
      "Para que la funcion pase exactamente por los puntos dados los valores deben ser: a=-2, b=10 y c=0\n"
     ]
    }
   ],
   "source": [
    "puntos = [[0, 0],[1, 8],[2, 12],[3, 12],[5, 0]]\n",
    "\n",
    "def encontrarValores(puntos):\n",
    "    mejorError = 999 \n",
    "    valores = (0, 0, 0)\n",
    "    \n",
    "    for a in range(-10, 11):\n",
    "        for b in range(-10, 11):\n",
    "            for c in range(-10, 11):\n",
    "                errorTotal = 0\n",
    "                for punto in puntos:\n",
    "                    x = punto[0] \n",
    "                    y = punto[1]  \n",
    "                    yEstimado = a * x**2 + b * x + c  \n",
    "                    errorTotal += abs(y - yEstimado)  \n",
    "                \n",
    "                if errorTotal == 0:                  \n",
    "                    return a, b, c \n",
    "                \n",
    "                if errorTotal < mejorError:\n",
    "                    mejorError = errorTotal\n",
    "                    valores = (a, b, c)    \n",
    "\n",
    "    return valores\n",
    "\n",
    "\n",
    "resultado =  encontrarValores(puntos)\n",
    "\n",
    "print(f\"Para que la funcion pase exactamente por los puntos dados los valores deben ser: a={resultado[0]}, b={resultado[1]} y c={resultado[2]}\")\n"
   ]
  },
  {
   "cell_type": "code",
   "execution_count": null,
   "metadata": {},
   "outputs": [],
   "source": []
  }
 ],
 "metadata": {
  "kernelspec": {
   "display_name": "Python 3",
   "language": "python",
   "name": "python3"
  },
  "language_info": {
   "codemirror_mode": {
    "name": "ipython",
    "version": 3
   },
   "file_extension": ".py",
   "mimetype": "text/x-python",
   "name": "python",
   "nbconvert_exporter": "python",
   "pygments_lexer": "ipython3",
   "version": "3.11.1"
  }
 },
 "nbformat": 4,
 "nbformat_minor": 2
}
