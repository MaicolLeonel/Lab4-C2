{
 "cells": [
  {
   "cell_type": "markdown",
   "metadata": {},
   "source": [
    "# Trabajo práctico 1\n",
    "\n"
   ]
  },
  {
   "cell_type": "markdown",
   "metadata": {},
   "source": [
    "## Ejercicio 1 \n",
    "\n",
    "Escribe una función en Python que procese una lista de cadenas de texto y realice las siguientes acciones:\n",
    "\n",
    "1. Tomar una lista de frases y convertir cada frase en una lista de palabras.\n",
    "1. Luego, debe crear una nueva lista que contenga la cantidad de palabras en cada frase.\n",
    "1. Tambien debe crear un lista que contenga la cantidad de caracteres en cada frase.\n",
    "1. Finalmente, debe imprimir cada frase original junto con la cantidad de palabras que contiene.\n",
    "Ejemplo de uso:\n",
    "```python\n",
    "    frases = [\n",
    "        \"Python es un lenguaje de programación\",\n",
    "        \"Me gusta resolver problemas con código\",\n",
    "        \"Las listas y los bucles son muy útiles\"\n",
    "    ]\n",
    "\n",
    "    procesar_frases(frases)\n",
    "```\n",
    "\n",
    "ejemplo de salida:\n",
    "```bash\n",
    "    La frase: \"Python es un...\"\n",
    "    tiene 6 palabras y 38 caracteres\n",
    "```\n"
   ]
  },
  {
   "cell_type": "code",
   "execution_count": null,
   "metadata": {},
   "outputs": [],
   "source": []
  },
  {
   "cell_type": "code",
   "execution_count": null,
   "metadata": {},
   "outputs": [
    {
     "ename": "",
     "evalue": "",
     "output_type": "error",
     "traceback": [
      "\u001b[1;31mRunning cells with 'Python 3.11.9' requires the ipykernel package.\n",
      "\u001b[1;31mRun the following command to install 'ipykernel' into the Python environment. \n",
      "\u001b[1;31mCommand: '\"c:/Users/Leonel Almiron/AppData/Local/Microsoft/WindowsApps/python3.11.exe\" -m pip install ipykernel -U --user --force-reinstall'"
     ]
    }
   ],
   "source": [
    "# Ejercicio 1 \n",
    "\n",
    "frases = [\"Me gusta mucho el futbol y la programacion\"]\n",
    "\n",
    "def procesar_frase(frases): \n",
    "    lista_c_palabras = []  \n",
    "    lista_c_caracteres = []  \n",
    "    \n",
    "    for frase in frases:\n",
    "        palabras = frase.split()\n",
    "        \n",
    "        C_palabras = len(palabras)\n",
    "        C_caracteres = len(frase.replace(\" \", \"\")) \n",
    "        \n",
    "        lista_c_palabras.append(C_palabras)\n",
    "        lista_c_caracteres.append(C_caracteres)\n",
    "        \n",
    "        \n",
    "        print(f\"La frase separada por palabras: {palabras}\")\n",
    "        print(f\"Tiene {C_palabras} palabras y {C_caracteres} caracteres (sin contar espacios)\")\n",
    "    \n",
    "\n",
    "    return lista_c_palabras, lista_c_caracteres\n",
    "\n",
    "cant_palabras, cant_caracteres = procesar_frase(frases)\n",
    "\n",
    "\n",
    "print(\"Cantidad de palabras en cada frase:\", cant_palabras)\n",
    "print(\"Cantidad de caracteres en cada frase:\", cant_caracteres)\n",
    "\n",
    "\n"
   ]
  },
  {
   "cell_type": "markdown",
   "metadata": {},
   "source": [
    "## Ejercicio 2\n",
    "\n",
    "Escribe una función en Python que encuentre los valores de `a`, `b`, y `c` para que la función cuadrática `f(x) = aX^2 + bX + c` pase exactamente por los siguientes puntos:\n",
    "\n",
    "| x  | y  |\n",
    "|---:|---:|\n",
    "|  0 |  0 |\n",
    "|  1 |  8 |\n",
    "|  2 | 12 |\n",
    "|  3 | 12 |\n",
    "|  5 |  0 |\n",
    "\n",
    "### Requisitos:\n",
    "- La función debe explorar posibles valores de `a`, `b`, y `c` utilizando un método de prueba y error.\n",
    "- Debe devolver los valores que hagan que la diferencia entre la función `f(x)` y los valores medidos `y` sea exactamente cero para cada punto.\n",
    "\n",
    "> **Pista**: Los valores de `a`, `b`, y `c` son números pequeños."
   ]
  },
  {
   "cell_type": "code",
   "execution_count": null,
   "metadata": {},
   "outputs": [],
   "source": [
    "# Ejercicio 2 \n",
    "\n",
    "\n",
    "def encontrar_puntos(x, a, b, c):\n",
    "    return a * x**2 + b * x + c\n",
    "\n",
    "\n",
    "def puntos_validos(a, b, c, puntos):\n",
    "    for x, y in puntos:\n",
    "        if encontrar_puntos(x, a, b, c) != y:  \n",
    "            return False\n",
    "    return True\n",
    "\n",
    "def encontrar_puntos(puntos):\n",
    "    for a in range(-10, 11):  \n",
    "        for b in range(-10, 11):   \n",
    "            for c in range(-10, 11):  \n",
    "                if puntos_validos(a, b, c, puntos):\n",
    "                    return a, b, c\n",
    "    return None\n",
    "\n",
    " \n",
    "puntos = [(0, 0), (1, 8), (2, 12), (3, 12), (5, 0)]\n",
    "\n",
    "\n",
    "resultado = encontrar_puntos(puntos)\n",
    "\n",
    "\n",
    "if resultado:\n",
    "    a, b, c = resultado\n",
    "    print(f\"Los valores encontrados son: a = {a}, b = {b}, c = {c}\")\n",
    "else:\n",
    "    print(\"No se encontraron valores que coincidan\")\n"
   ]
  }
 ],
 "metadata": {
  "kernelspec": {
   "display_name": "Python 3",
   "language": "python",
   "name": "python3"
  },
  "language_info": {
   "name": "python",
   "version": "3.11.9"
  }
 },
 "nbformat": 4,
 "nbformat_minor": 2
}
