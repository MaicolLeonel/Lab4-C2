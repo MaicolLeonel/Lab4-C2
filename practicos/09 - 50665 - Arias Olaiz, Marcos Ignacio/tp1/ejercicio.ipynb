{
 "cells": [
  {
   "cell_type": "markdown",
   "metadata": {},
   "source": [
    "# Trabajo práctico 1\n",
    "\n"
   ]
  },
  {
   "cell_type": "markdown",
   "metadata": {},
   "source": [
    "## Ejercicio 1 \n",
    "\n",
    "Escribe una función en Python que procese una lista de cadenas de texto y realice las siguientes acciones:\n",
    "\n",
    "1. Tomar una lista de frases y convertir cada frase en una lista de palabras.\n",
    "1. Luego, debe crear una nueva lista que contenga la cantidad de palabras en cada frase.\n",
    "1. Tambien debe crear un lista que contenga la cantidad de caracteres en cada frase.\n",
    "1. Finalmente, debe imprimir cada frase original junto con la cantidad de palabras que contiene.\n",
    "Ejemplo de uso:\n",
    "```python\n",
    "    frases = [\n",
    "        \"Python es un lenguaje de programación\",\n",
    "        \"Me gusta resolver problemas con código\",\n",
    "        \"Las listas y los bucles son muy útiles\"\n",
    "    ]\n",
    "\n",
    "    procesar_frases(frases)\n",
    "```\n",
    "\n",
    "ejemplo de salida:\n",
    "```bash\n",
    "    La frase: \"Python es un...\"\n",
    "    tiene 6 palabras y 38 caracteres\n",
    "```\n"
   ]
  },
  {
   "cell_type": "code",
   "execution_count": null,
   "metadata": {},
   "outputs": [],
   "source": [
    "# Implementar\n",
    "frases = [ \"Python es un lenguaje de programación\", \"Me gusta resolver problemas con código\",\"Las listas y los bucles son muy útiles\" ]\n",
    "def funcionFrases(frases):\n",
    "  arrayPalabras = []\n",
    "  arrayCaracteres = []\n",
    "  for frase in frases:\n",
    "    fraseIndividual = frase.split()\n",
    "    print(frase)\n",
    "    cantidadPalabras = len(fraseIndividual)\n",
    "    cantidadCaracteres = len(frase)\n",
    "    arrayPalabras.append(cantidadPalabras)    \n",
    "    arrayCaracteres.append(cantidadCaracteres)    \n",
    "    print(f\"La frase '{frase}' tiene {cantidadPalabras} palabras y {cantidadCaracteres} caracteres \")\n",
    "\n",
    "funcionFrases(frases)     "
   ]
  },
  {
   "cell_type": "markdown",
   "metadata": {},
   "source": [
    "## Ejercicio 2\n",
    "\n",
    "Escribe una función en Python que encuentre los valores de `a`, `b`, y `c` para que la función cuadrática `f(x) = aX^2 + bX + c` pase exactamente por los siguientes puntos:\n",
    "\n",
    "| x  | y  |\n",
    "|---:|---:|\n",
    "|  0 |  0 |\n",
    "|  1 |  8 |\n",
    "|  2 | 12 |\n",
    "|  3 | 12 |\n",
    "|  5 |  0 |\n",
    "\n",
    "### Requisitos:\n",
    "- La función debe explorar posibles valores de `a`, `b`, y `c` utilizando un método de prueba y error.\n",
    "- Debe devolver los valores que hagan que la diferencia entre la función `f(x)` y los valores medidos `y` sea exactamente cero para cada punto.\n",
    "\n",
    "> **Pista**: Los valores de `a`, `b`, y `c` son números pequeños."
   ]
  },
  {
   "cell_type": "code",
   "execution_count": null,
   "metadata": {},
   "outputs": [],
   "source": [
    "# Implementar\n",
    "puntos = [(0, 0), (1, 8), (2, 12), (3, 12), (5, 0)]    \n",
    "def buscadorCoeficientes(puntos):\n",
    "    for a in range(-10, 11):\n",
    "        for b in range(-10, 11):\n",
    "            for c in range(-10, 11):\n",
    "                solucion = True\n",
    "                for x, y in puntos:\n",
    "                    fx = a * x**2 + b * x + c\n",
    "                    if fx != y:\n",
    "                        solucion = False                                           \n",
    "                if solucion:\n",
    "                    print(f'Los coeficientes son: a = {a}, b = {b}, c = {c}')\n",
    "\n",
    "buscadorCoeficientes(puntos)"
   ]
  }
 ],
 "metadata": {
  "language_info": {
   "name": "python"
  }
 },
 "nbformat": 4,
 "nbformat_minor": 2
}
